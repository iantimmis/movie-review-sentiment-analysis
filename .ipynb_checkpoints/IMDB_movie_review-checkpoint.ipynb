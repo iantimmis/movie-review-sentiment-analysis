{
 "cells": [
  {
   "cell_type": "markdown",
   "metadata": {},
   "source": [
    "# Sentiment analysis on IMDB movie reviews using GloVe word embeddings and deep LSTM network\n",
    "\n",
    "This is a draft only showing the ability to convert an example of an IMDB movie review into a vectorized representation using a 50-dimensional GloVe word embedding"
   ]
  },
  {
   "cell_type": "markdown",
   "metadata": {},
   "source": [
    "# Imports"
   ]
  },
  {
   "cell_type": "code",
   "execution_count": 1,
   "metadata": {},
   "outputs": [
    {
     "name": "stderr",
     "output_type": "stream",
     "text": [
      "Using TensorFlow backend.\n"
     ]
    }
   ],
   "source": [
    "# Deep Learning\n",
    "from keras.models import Model\n",
    "from keras.layers import LSTM, Dropout, Input, Activation, Embedding, Dense, GRU\n",
    "from keras.preprocessing import sequence\n",
    "from keras.initializers import glorot_uniform\n",
    "from keras.callbacks import ModelCheckpoint, EarlyStopping\n",
    "\n",
    "# Data Viz\n",
    "import matplotlib.pyplot as plt\n",
    "\n",
    "# Linear Algebra\n",
    "import numpy as np\n",
    "\n",
    "# Regex\n",
    "import re\n",
    "\n",
    "# File manipulation\n",
    "import glob, os\n",
    "\n",
    "# Shuffle data\n",
    "import random"
   ]
  },
  {
   "cell_type": "code",
   "execution_count": 2,
   "metadata": {},
   "outputs": [],
   "source": [
    "%matplotlib inline"
   ]
  },
  {
   "cell_type": "markdown",
   "metadata": {},
   "source": [
    "# Load the IMDB dataset\n",
    "Dataset can be downloaded here: http://ai.stanford.edu/~amaas/data/sentiment/"
   ]
  },
  {
   "cell_type": "code",
   "execution_count": 3,
   "metadata": {},
   "outputs": [],
   "source": [
    "def load_dataset():\n",
    "    '''\n",
    "    Loads the training and testing examples.\n",
    "    '''\n",
    "    \n",
    "    # Load the training set\n",
    "    \n",
    "    pos_train = glob.glob(\"/floyd/input/imdb/train/pos/*.txt\")\n",
    "    neg_train = glob.glob(\"/floyd/input/imdb/train/neg/*.txt\")\n",
    "    \n",
    "    X_train = sorted(pos_train + neg_train)\n",
    "\n",
    "    # Load the testing set\n",
    "    \n",
    "    pos_test_full = glob.glob(\"/floyd/input/imdb/test/pos/*.txt\")\n",
    "    neg_test_full = glob.glob(\"/floyd/input/imdb/test/neg/*.txt\")\n",
    "    \n",
    "    pos_val = pos_test_full[6250:]\n",
    "    neg_val = neg_test_full[6250:]\n",
    "    \n",
    "    X_val = sorted(pos_val + neg_val)\n",
    "    \n",
    "    pos_test = pos_test_full[:6250]\n",
    "    neg_test = neg_test_full[:6250]\n",
    "    \n",
    "    X_test = sorted(pos_test + neg_test)\n",
    "    \n",
    "    # Generate the labels\n",
    "    \n",
    "    Y_train = []\n",
    "    Y_val = []\n",
    "    Y_test = []\n",
    "    \n",
    "    for file in X_train:\n",
    "        if int(file.split(\"/\")[-1].split(\"_\")[1].split('.')[0]) > 5:\n",
    "            Y_train.append(1)\n",
    "        else:\n",
    "            Y_train.append(0)\n",
    "            \n",
    "    for file in X_val:\n",
    "        if int(file.split(\"/\")[-1].split(\"_\")[1].split('.')[0]) > 5:\n",
    "            Y_val.append(1)\n",
    "        else:\n",
    "            Y_val.append(0)\n",
    "        \n",
    "    for file in X_test:\n",
    "        if int(file.split(\"/\")[-1].split(\"_\")[1].split('.')[0]) > 5:\n",
    "            Y_test.append(1)\n",
    "        else:\n",
    "            Y_test.append(0)\n",
    "    \n",
    "    return (X_train, Y_train), (X_val, Y_val), (X_test, Y_test)"
   ]
  },
  {
   "cell_type": "code",
   "execution_count": 4,
   "metadata": {},
   "outputs": [],
   "source": [
    "(X_train, Y_train), (X_val, Y_val), (X_test, Y_test) = load_dataset()"
   ]
  },
  {
   "cell_type": "code",
   "execution_count": 5,
   "metadata": {},
   "outputs": [
    {
     "name": "stdout",
     "output_type": "stream",
     "text": [
      "25000\n",
      "12500\n",
      "12500\n"
     ]
    }
   ],
   "source": [
    "print(len(X_train))\n",
    "print(len(X_val))\n",
    "print(len(X_test))"
   ]
  },
  {
   "cell_type": "markdown",
   "metadata": {},
   "source": [
    "# Load 50 dimensional GloVe word embeddings\n",
    "\n",
    "GloVe word embeddings can be downloaded here: https://nlp.stanford.edu/projects/glove/"
   ]
  },
  {
   "cell_type": "markdown",
   "metadata": {},
   "source": [
    "<table width=%100><tr><td><img src='glove1.jpg'></td><td><img src='glove2.jpg'></td></tr></table>"
   ]
  },
  {
   "cell_type": "code",
   "execution_count": 6,
   "metadata": {},
   "outputs": [],
   "source": [
    "def read_glove_vecs(glove_file):\n",
    "    '''\n",
    "    Imports the GloVe embedding matrix from an external file and creates several interfaces to that data\n",
    "    '''\n",
    "    with open(glove_file, 'r', encoding=\"utf8\") as f:\n",
    "        words = set()\n",
    "        word_to_vec_map = {}\n",
    "        for line in f:\n",
    "            line = line.strip().split()\n",
    "            curr_word = line[0]\n",
    "            words.add(curr_word)\n",
    "            word_to_vec_map[curr_word] = np.array(line[1:], dtype=np.float64)\n",
    "        \n",
    "        i = 1\n",
    "        word_to_index = {}\n",
    "        index_to_word = {}\n",
    "        for w in sorted(words):\n",
    "            word_to_index[w] = i\n",
    "            index_to_word[i] = w\n",
    "            i = i + 1\n",
    "    return word_to_index, index_to_word, word_to_vec_map"
   ]
  },
  {
   "cell_type": "code",
   "execution_count": 7,
   "metadata": {},
   "outputs": [],
   "source": [
    "glove_path = \"/floyd/input/imdb/glove.6B.50d.txt\""
   ]
  },
  {
   "cell_type": "code",
   "execution_count": 8,
   "metadata": {},
   "outputs": [],
   "source": [
    "word_to_index, index_to_word, word_to_vec_map = read_glove_vecs(glove_path)"
   ]
  },
  {
   "cell_type": "markdown",
   "metadata": {},
   "source": [
    "# Word embedding Example"
   ]
  },
  {
   "cell_type": "code",
   "execution_count": 9,
   "metadata": {},
   "outputs": [
    {
     "name": "stdout",
     "output_type": "stream",
     "text": [
      "embedding \n",
      " [ 0.62345   0.032983  0.43996   0.44996   0.85634   0.10575   0.9867\n",
      " -1.1748    0.28233   0.11164   0.14791  -0.33504  -0.54567  -0.48938\n",
      " -0.30864   0.0542    0.51353   0.25094   0.90265  -0.44953  -0.19574\n",
      " -0.059456 -0.23541   0.47732   0.14565   0.71205   0.10384   0.38435\n",
      "  0.28728  -0.62065   0.19764  -0.92376  -0.45941  -0.35899  -0.36896\n",
      " -0.022755  0.036052 -0.037406 -0.6725    0.96637   1.3847   -0.22727\n",
      " -0.21122   0.47012  -0.37961  -1.0339    0.93388   0.60006  -0.36329\n",
      " -0.078399]\n"
     ]
    }
   ],
   "source": [
    "word = \"embedding\"\n",
    "try:\n",
    "    print(word,'\\n', word_to_vec_map[word])\n",
    "except:\n",
    "    print(word, \" not found\")"
   ]
  },
  {
   "cell_type": "markdown",
   "metadata": {},
   "source": [
    "# Data Cleaning Procedures"
   ]
  },
  {
   "cell_type": "code",
   "execution_count": 10,
   "metadata": {},
   "outputs": [],
   "source": [
    "def remove_html(text):\n",
    "    '''\n",
    "    Removes all html tags from input text\n",
    "    '''\n",
    "    cleanr = re.compile('<.*?>')\n",
    "    cleantext = re.sub(cleanr, '', text)\n",
    "    return cleantext"
   ]
  },
  {
   "cell_type": "code",
   "execution_count": 11,
   "metadata": {},
   "outputs": [],
   "source": [
    "def separate_punctuation(text):\n",
    "    '''\n",
    "    Adds spaces around all punctation to ensure that they get tokenized properly \n",
    "    by the .split() function later on\n",
    "    '''\n",
    "    return text.replace(\"'\", \"\").replace(\",\",\" , \") \\\n",
    "    .replace(\".\",\" . \").replace(\"!\", \" ! \").replace(\"?\", \" ? \")"
   ]
  },
  {
   "cell_type": "code",
   "execution_count": 12,
   "metadata": {},
   "outputs": [],
   "source": [
    "def is_word_known(word):\n",
    "    '''\n",
    "    Determines whether the input word relates to a valid GloVe word embedding\n",
    "    '''\n",
    "    try:\n",
    "        _ = word_to_vec_map[word]\n",
    "        return True\n",
    "    except:\n",
    "        return False"
   ]
  },
  {
   "cell_type": "code",
   "execution_count": 13,
   "metadata": {},
   "outputs": [],
   "source": [
    "def remove_unknown_words(text):\n",
    "    '''\n",
    "    Removes all words from the text not related to a valid GloVe word embedding\n",
    "    '''\n",
    "    return [word for word in text if is_word_known(word)]"
   ]
  },
  {
   "cell_type": "code",
   "execution_count": 14,
   "metadata": {},
   "outputs": [],
   "source": [
    "def clean_example(review):\n",
    "    '''\n",
    "    Input: A movie review\n",
    "    Output: A clean tokenized list of words and punctuation extracted from the movie review. \n",
    "    '''\n",
    "    return remove_unknown_words(separate_punctuation(remove_html(review)).lower().split())"
   ]
  },
  {
   "cell_type": "markdown",
   "metadata": {},
   "source": [
    "# Find Longest Review\n",
    "\n",
    "We do this so we know how much to pad our other examples"
   ]
  },
  {
   "cell_type": "code",
   "execution_count": 16,
   "metadata": {},
   "outputs": [],
   "source": [
    "def find_longest_review(X_train, X_val, X_test):\n",
    "    '''\n",
    "    Returns the amount of tokens in the longest review. (Tokens: words and punctation)\n",
    "    '''\n",
    "\n",
    "    max_len = 0\n",
    "    for file in X_train + X_val + X_test:\n",
    "        with open(file, 'r', encoding=\"utf8\") as file:\n",
    "            max_len = max(max_len, len(clean_example(file.read())))\n",
    "\n",
    "    return max_len"
   ]
  },
  {
   "cell_type": "code",
   "execution_count": 17,
   "metadata": {},
   "outputs": [],
   "source": [
    "max_len = find_longest_review(X_train, X_val, X_test)"
   ]
  },
  {
   "cell_type": "code",
   "execution_count": 18,
   "metadata": {},
   "outputs": [
    {
     "name": "stdout",
     "output_type": "stream",
     "text": [
      "2627\n"
     ]
    }
   ],
   "source": [
    "print(max_len)"
   ]
  },
  {
   "cell_type": "markdown",
   "metadata": {},
   "source": [
    "## Define the Model"
   ]
  },
  {
   "cell_type": "markdown",
   "metadata": {},
   "source": [
    "<table width=%100><tr><td><img src='rnn.png'></td><td><img src='lstm.png'></td></tr></table>"
   ]
  },
  {
   "cell_type": "code",
   "execution_count": 15,
   "metadata": {},
   "outputs": [],
   "source": [
    "def glove_embedding_layer(word_to_vec_map, word_to_index):\n",
    "    '''\n",
    "    Returns a Keras embedding layer populated with 50-dimensional GloVe word embeddings\n",
    "    '''\n",
    "    # Define dimensions of embedding matrix\n",
    "    vocab_len = len(word_to_index) + 1\n",
    "    emb_dim = word_to_vec_map[\"embedding\"].shape[0]\n",
    "    \n",
    "    # Initialize empty matrix\n",
    "    emb_matrix = np.zeros((vocab_len, emb_dim))\n",
    "    \n",
    "    # Populate embedding matrix\n",
    "    for word, index in word_to_index.items():\n",
    "        emb_matrix[index, :] = word_to_vec_map[word]\n",
    "\n",
    "    # Build Embedding layer\n",
    "    embedding_layer = Embedding(input_dim=vocab_len, output_dim=emb_dim, trainable=False)\n",
    "    embedding_layer.build((None,))\n",
    "    embedding_layer.set_weights([emb_matrix])\n",
    "    \n",
    "    return embedding_layer"
   ]
  },
  {
   "cell_type": "code",
   "execution_count": 16,
   "metadata": {},
   "outputs": [],
   "source": [
    "def lstm_network(input_shape, word_to_vec_map, word_to_index):\n",
    "    '''\n",
    "    Returns keras model of the neural network\n",
    "    '''\n",
    "    # Input Layer\n",
    "    sentence_indices = Input(shape=input_shape, dtype=\"int32\")\n",
    "    \n",
    "    # Embedding layer\n",
    "    embedding_layer = glove_embedding_layer(word_to_vec_map, word_to_index)\n",
    "    embeddings = embedding_layer(sentence_indices)   \n",
    "    \n",
    "    # LSTM layers\n",
    "    X = LSTM(128, return_sequences=True)(embeddings)\n",
    "    X = Dropout(rate=0.5)(X)\n",
    "    X = LSTM(128, return_sequences=True)(X)\n",
    "    X = Dropout(rate=0.5)(X)\n",
    "    X = LSTM(128, return_sequences=False)(X)\n",
    "    X = Dropout(rate=0.5)(X)\n",
    "\n",
    "    # Output layer\n",
    "    X = Dense(1, activation=\"sigmoid\")(X)\n",
    "    \n",
    "    model = Model(inputs=sentence_indices, outputs=X)\n",
    "    \n",
    "    return model"
   ]
  },
  {
   "cell_type": "code",
   "execution_count": 17,
   "metadata": {},
   "outputs": [
    {
     "name": "stdout",
     "output_type": "stream",
     "text": [
      "_________________________________________________________________\n",
      "Layer (type)                 Output Shape              Param #   \n",
      "=================================================================\n",
      "input_1 (InputLayer)         (None, 100)               0         \n",
      "_________________________________________________________________\n",
      "embedding_1 (Embedding)      (None, 100, 50)           20000050  \n",
      "_________________________________________________________________\n",
      "lstm_1 (LSTM)                (None, 100, 128)          91648     \n",
      "_________________________________________________________________\n",
      "dropout_1 (Dropout)          (None, 100, 128)          0         \n",
      "_________________________________________________________________\n",
      "lstm_2 (LSTM)                (None, 100, 128)          131584    \n",
      "_________________________________________________________________\n",
      "dropout_2 (Dropout)          (None, 100, 128)          0         \n",
      "_________________________________________________________________\n",
      "lstm_3 (LSTM)                (None, 128)               131584    \n",
      "_________________________________________________________________\n",
      "dropout_3 (Dropout)          (None, 128)               0         \n",
      "_________________________________________________________________\n",
      "dense_1 (Dense)              (None, 1)                 129       \n",
      "=================================================================\n",
      "Total params: 20,354,995\n",
      "Trainable params: 354,945\n",
      "Non-trainable params: 20,000,050\n",
      "_________________________________________________________________\n"
     ]
    }
   ],
   "source": [
    "model = lstm_network((100,), word_to_vec_map, word_to_index)\n",
    "model.compile(loss='mean_squared_error', optimizer='adam', metrics=['acc'])\n",
    "model.summary()"
   ]
  },
  {
   "cell_type": "markdown",
   "metadata": {},
   "source": [
    "# Generate Mini-Batches"
   ]
  },
  {
   "cell_type": "code",
   "execution_count": 18,
   "metadata": {},
   "outputs": [],
   "source": [
    "def sentences_to_indices(X, word_to_index, max_len):\n",
    "    '''\n",
    "    Input: A list of reviews containing the complete text of a movie review\n",
    "    Output: A list of reviews containing the indices to the GloVe embedding \n",
    "        matrix for each word in the original review\n",
    "    '''\n",
    "    m = X.shape[0]\n",
    "\n",
    "    X_indices = np.zeros([m, max_len])\n",
    "    \n",
    "    for i in range(m):\n",
    "        \n",
    "        j = 0\n",
    "        sentence_words = clean_example(X[i])\n",
    "        \n",
    "        # Trim the sentence if max_len requires it\n",
    "        sentence_words = sentence_words[:max_len]\n",
    "\n",
    "        for w in sentence_words:\n",
    "            X_indices[i, j] = word_to_index[w]\n",
    "            j = j + 1\n",
    "    \n",
    "    return X_indices"
   ]
  },
  {
   "cell_type": "code",
   "execution_count": 19,
   "metadata": {},
   "outputs": [],
   "source": [
    "def generator(filenames, labels, batch_size, word_to_index, max_len):\n",
    "    '''\n",
    "    Generates next mini-batch of data each time this function is called\n",
    "    '''\n",
    "    file_count = len(filenames)\n",
    "    batch_count = 0\n",
    "\n",
    "    # Shuffle Data\n",
    "    c = list(zip(filenames, labels))\n",
    "    random.shuffle(c)\n",
    "    filenames, labels = zip(*c)\n",
    "    \n",
    "    steps_per_epoch = len(filenames)//batch_size\n",
    "    \n",
    "    while True:\n",
    "        \n",
    "        beg = batch_count * batch_size\n",
    "        end = beg + batch_size\n",
    "        \n",
    "        # Generate mini-batch features\n",
    "        batch_features = []\n",
    "        for file in filenames[beg:end]:\n",
    "            with open(file, 'r', encoding=\"utf8\") as f:\n",
    "                batch_features.append(f.read())\n",
    "        \n",
    "        batch_features = sentences_to_indices(np.array(batch_features), word_to_index, max_len)\n",
    "        \n",
    "        # Generate mini-batch labels\n",
    "        batch_labels = np.array(labels[beg:end])\n",
    "        \n",
    "        # Prepare for next batch\n",
    "        batch_count = (batch_count + 1) % steps_per_epoch\n",
    "        \n",
    "        yield batch_features, batch_labels"
   ]
  },
  {
   "cell_type": "markdown",
   "metadata": {},
   "source": [
    "# Train the Model"
   ]
  },
  {
   "cell_type": "code",
   "execution_count": 20,
   "metadata": {},
   "outputs": [],
   "source": [
    "batch_size = 256\n",
    "max_len = 100\n",
    "epochs = 50\n",
    "early_stopping_patience = 5"
   ]
  },
  {
   "cell_type": "code",
   "execution_count": 21,
   "metadata": {},
   "outputs": [
    {
     "name": "stdout",
     "output_type": "stream",
     "text": [
      "Epoch 1/50\n",
      "97/97 [==============================] - 64s 659ms/step - loss: 0.2171 - acc: 0.6543 - val_loss: 0.2108 - val_acc: 0.6799\n",
      "\n",
      "Epoch 00001: val_acc improved from -inf to 0.67993, saving model to final_weights.h5\n",
      "Epoch 2/50\n",
      "97/97 [==============================] - 60s 619ms/step - loss: 0.1881 - acc: 0.7221 - val_loss: 0.1991 - val_acc: 0.6995\n",
      "\n",
      "Epoch 00002: val_acc improved from 0.67993 to 0.69954, saving model to final_weights.h5\n",
      "Epoch 3/50\n",
      "97/97 [==============================] - 60s 617ms/step - loss: 0.1781 - acc: 0.7419 - val_loss: 0.1747 - val_acc: 0.7429\n",
      "\n",
      "Epoch 00003: val_acc improved from 0.69954 to 0.74292, saving model to final_weights.h5\n",
      "Epoch 4/50\n",
      "97/97 [==============================] - 60s 619ms/step - loss: 0.1669 - acc: 0.7586 - val_loss: 0.1653 - val_acc: 0.7607\n",
      "\n",
      "Epoch 00004: val_acc improved from 0.74292 to 0.76074, saving model to final_weights.h5\n",
      "Epoch 5/50\n",
      "97/97 [==============================] - 60s 619ms/step - loss: 0.1592 - acc: 0.7711 - val_loss: 0.1580 - val_acc: 0.7705\n",
      "\n",
      "Epoch 00005: val_acc improved from 0.76074 to 0.77051, saving model to final_weights.h5\n",
      "Epoch 6/50\n",
      "97/97 [==============================] - 60s 617ms/step - loss: 0.1552 - acc: 0.7768 - val_loss: 0.1650 - val_acc: 0.7613\n",
      "\n",
      "Epoch 00006: val_acc did not improve from 0.77051\n",
      "Epoch 7/50\n",
      "97/97 [==============================] - 60s 618ms/step - loss: 0.1479 - acc: 0.7880 - val_loss: 0.1608 - val_acc: 0.7676\n",
      "\n",
      "Epoch 00007: val_acc did not improve from 0.77051\n",
      "Epoch 8/50\n",
      "97/97 [==============================] - 60s 617ms/step - loss: 0.1465 - acc: 0.7916 - val_loss: 0.1503 - val_acc: 0.7853\n",
      "\n",
      "Epoch 00008: val_acc improved from 0.77051 to 0.78532, saving model to final_weights.h5\n",
      "Epoch 9/50\n",
      "97/97 [==============================] - 60s 619ms/step - loss: 0.1418 - acc: 0.7970 - val_loss: 0.1433 - val_acc: 0.7950\n",
      "\n",
      "Epoch 00009: val_acc improved from 0.78532 to 0.79500, saving model to final_weights.h5\n",
      "Epoch 10/50\n",
      "97/97 [==============================] - 60s 618ms/step - loss: 0.1377 - acc: 0.8018 - val_loss: 0.1454 - val_acc: 0.7909\n",
      "\n",
      "Epoch 00010: val_acc did not improve from 0.79500\n",
      "Epoch 11/50\n",
      "97/97 [==============================] - 60s 618ms/step - loss: 0.1344 - acc: 0.8091 - val_loss: 0.1425 - val_acc: 0.7953\n",
      "\n",
      "Epoch 00011: val_acc improved from 0.79500 to 0.79533, saving model to final_weights.h5\n",
      "Epoch 12/50\n",
      "97/97 [==============================] - 60s 619ms/step - loss: 0.1308 - acc: 0.8136 - val_loss: 0.1419 - val_acc: 0.7991\n",
      "\n",
      "Epoch 00012: val_acc improved from 0.79533 to 0.79907, saving model to final_weights.h5\n",
      "Epoch 13/50\n",
      "97/97 [==============================] - 60s 618ms/step - loss: 0.1269 - acc: 0.8206 - val_loss: 0.1456 - val_acc: 0.7955\n",
      "\n",
      "Epoch 00013: val_acc did not improve from 0.79907\n",
      "Epoch 14/50\n",
      "97/97 [==============================] - 60s 617ms/step - loss: 0.1251 - acc: 0.8237 - val_loss: 0.1438 - val_acc: 0.7998\n",
      "\n",
      "Epoch 00014: val_acc improved from 0.79907 to 0.79980, saving model to final_weights.h5\n",
      "Epoch 15/50\n",
      "97/97 [==============================] - 60s 617ms/step - loss: 0.1196 - acc: 0.8313 - val_loss: 0.1431 - val_acc: 0.7974\n",
      "\n",
      "Epoch 00015: val_acc did not improve from 0.79980\n",
      "Epoch 16/50\n",
      "97/97 [==============================] - 60s 614ms/step - loss: 0.1164 - acc: 0.8375 - val_loss: 0.1443 - val_acc: 0.7979\n",
      "\n",
      "Epoch 00016: val_acc did not improve from 0.79980\n",
      "Epoch 17/50\n",
      "97/97 [==============================] - 60s 615ms/step - loss: 0.1148 - acc: 0.8412 - val_loss: 0.1545 - val_acc: 0.7853\n",
      "\n",
      "Epoch 00017: val_acc did not improve from 0.79980\n",
      "Epoch 18/50\n",
      "97/97 [==============================] - 60s 614ms/step - loss: 0.1125 - acc: 0.8454 - val_loss: 0.1578 - val_acc: 0.7885\n",
      "\n",
      "Epoch 00018: val_acc did not improve from 0.79980\n",
      "Epoch 19/50\n",
      "97/97 [==============================] - 59s 613ms/step - loss: 0.1089 - acc: 0.8513 - val_loss: 0.1549 - val_acc: 0.7880\n",
      "\n",
      "Epoch 00019: val_acc did not improve from 0.79980\n"
     ]
    }
   ],
   "source": [
    "callbacks_list = [\n",
    "    ModelCheckpoint(\"final_weights.h5\", monitor='val_acc', verbose=1, save_best_only=True),\n",
    "    EarlyStopping(monitor='val_acc', patience=early_stopping_patience, verbose=0)\n",
    "]\n",
    "\n",
    "history = model.fit_generator(generator(X_train, Y_train, batch_size, word_to_index, max_len), \\\n",
    "                    steps_per_epoch=len(X_train)//batch_size, \\\n",
    "                    epochs=epochs, \\\n",
    "                    validation_data=generator(X_val, Y_val, batch_size, word_to_index, max_len), \\\n",
    "                    callbacks=callbacks_list, \\\n",
    "                    validation_steps=len(X_val)//batch_size)"
   ]
  },
  {
   "cell_type": "markdown",
   "metadata": {},
   "source": [
    "# Evaluate"
   ]
  },
  {
   "cell_type": "code",
   "execution_count": 22,
   "metadata": {},
   "outputs": [
    {
     "data": {
      "image/png": "[encoded data removed]",
      "text/plain": [
       "<Figure size 432x288 with 1 Axes>"
      ]
     },
     "metadata": {},
     "output_type": "display_data"
    }
   ],
   "source": [
    "plt.plot(history.history['loss'], label=\"Training Loss\")\n",
    "plt.plot(history.history['val_loss'], label=\"Validation Loss\")\n",
    "plt.legend(loc='best')\n",
    "plt.xlabel(\"Epochs of training\")\n",
    "plt.ylabel(\"Loss\")\n",
    "plt.show()"
   ]
  },
  {
   "cell_type": "code",
   "execution_count": 23,
   "metadata": {},
   "outputs": [
    {
     "data": {
      "image/png": "[encoded data removed]",
      "text/plain": [
       "<Figure size 432x288 with 1 Axes>"
      ]
     },
     "metadata": {},
     "output_type": "display_data"
    }
   ],
   "source": [
    "plt.plot(history.history['acc'], label=\"Training Accuracy\")\n",
    "plt.plot(history.history['val_acc'], label=\"Validation Accuracy\")\n",
    "plt.legend(loc='best')\n",
    "plt.xlabel(\"Epochs of training\")\n",
    "plt.ylabel(\"Accuracy\")\n",
    "plt.show()"
   ]
  },
  {
   "cell_type": "code",
   "execution_count": 25,
   "metadata": {},
   "outputs": [
    {
     "name": "stdout",
     "output_type": "stream",
     "text": [
      "Loss = 0.1425839683839253\n",
      "Test Accuracy = 0.8028539540816326\n"
     ]
    }
   ],
   "source": [
    "model.load_weights('final_weights.h5')\n",
    "preds = model.evaluate_generator(generator=generator(X_test,Y_test, batch_size, word_to_index, max_len), steps=len(X_test)/batch_size)\n",
    "print (\"Loss = \" + str(preds[0]))\n",
    "print (\"Test Accuracy = \" + str(preds[1]))"
   ]
  }
 ],
 "metadata": {
  "kernelspec": {
   "display_name": "Python 3",
   "language": "python",
   "name": "python3"
  },
  "language_info": {
   "codemirror_mode": {
    "name": "ipython",
    "version": 3
   },
   "file_extension": ".py",
   "mimetype": "text/x-python",
   "name": "python",
   "nbconvert_exporter": "python",
   "pygments_lexer": "ipython3",
   "version": "3.5.6"
  }
 },
 "nbformat": 4,
 "nbformat_minor": 2
}
